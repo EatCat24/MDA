{
 "cells": [
  {
   "cell_type": "code",
   "execution_count": 6,
   "id": "fdea8dbf-c148-40db-adde-ccd5e6b10835",
   "metadata": {},
   "outputs": [],
   "source": [
    "import pandas as pd\n",
    "import numpy as np\n",
    "\n",
    "import os\n",
    "\n",
    "# Create a dictionary to store all dataframes \n",
    "path = os.getcwd()\n",
    "dataset = {}\n",
    "for file_name in os.listdir(path):\n",
    "    if file_name.endswith('.parquet.gzip'):\n",
    "        name = (file_name).split('.')[0]\n",
    "        dataset[name] = pd.read_parquet(file_name)\n",
    "import pgeocode\n",
    "\n",
    "nomi = pgeocode.Nominatim('be')\n",
    "\n",
    "aed = dataset['aed_locations'].copy()\n",
    "aed.dropna(subset = ['postal_code'],inplace=True)\n",
    "aed.index = range(len(aed))\n",
    "aed['postal_code'] = [round(i) for i in aed['postal_code']]\n",
    "aed['postal_code'] = aed['postal_code'].astype('str')\n",
    "aed['coord_x'] = (nomi.query_postal_code(aed['postal_code'].tolist()).latitude)\n",
    "aed['coord_y'] = (nomi.query_postal_code(aed['postal_code'].tolist()).longitude)\n",
    "aed.dropna(subset=['coord_x','coord_y'],inplace=True)\n",
    "aed.index = range(len(aed))"
   ]
  },
  {
   "cell_type": "code",
   "execution_count": 12,
   "id": "edf8dff4-f73e-4de8-a609-fd9d1a1efdd0",
   "metadata": {},
   "outputs": [],
   "source": [
    "# obtain right gps info for streets\n",
    "street_names = np.unique(aed[aed['address'].notna()]['address']).tolist()\n",
    "def chunks(lst, n):\n",
    "    sublst = []\n",
    "    for i in range(0, len(lst), n):\n",
    "        sublst.append(lst[i:i + n])\n",
    "    return sublst\n",
    "lst = chunks(street_names,600)\n",
    "# from geopy.geocoders import Nominatim\n",
    "\n",
    "# for i in range(len(lst)):\n",
    "#     sublst = lst[i]\n",
    "#     geolocator = Nominatim(user_agent=\"MyApp\")\n",
    "#     locations = []\n",
    "#     for street in sublst:\n",
    "#         location = geolocator.geocode(street)\n",
    "#         if location:\n",
    "#             locations.append([street,location.latitude,location.longitude])\n",
    "#     locations = pd.DataFrame(locations)\n",
    "#     locations = locations.rename(columns={0:\"StreetName AED\", 1:\"Latitude AED\", 2:\"Longitude AED\"})\n",
    "#     locations.to_csv('StreetInfo_AED'+str(i)+'.csv', index = False)\n",
    "#     print('complete')"
   ]
  },
  {
   "cell_type": "code",
   "execution_count": 14,
   "id": "c9997135-dd9a-4b20-8508-ce813e122d25",
   "metadata": {},
   "outputs": [],
   "source": [
    "path = os.getcwd()\n",
    "AED = {}\n",
    "for file_name in os.listdir(path):\n",
    "    if file_name.startswith('StreetInfo_AED'):\n",
    "        name = (file_name).split('.')[0]\n",
    "        AED[name] = pd.read_csv(file_name)"
   ]
  },
  {
   "cell_type": "code",
   "execution_count": 22,
   "id": "00e8fd01-120c-47be-82df-a7194171c151",
   "metadata": {},
   "outputs": [],
   "source": [
    "StreetInfoAED = pd.DataFrame()\n",
    "for key, value in AED.items():\n",
    "    StreetInfoAED = pd.concat([StreetInfoAED,value])\n",
    "StreetInfoAED.index = range(len(StreetInfoAED))\n",
    "StreetInfoAED.rename(columns={'StreetName AED':'address'},inplace=True)"
   ]
  },
  {
   "cell_type": "code",
   "execution_count": 89,
   "id": "7c15990c-e0a7-487a-808d-d29e65279f4e",
   "metadata": {},
   "outputs": [],
   "source": [
    "df = aed.merge(StreetInfoAED,on='address',how='left')\n",
    "for i in range(len(df)):\n",
    "    latitude = df.loc[i,'Latitude AED']\n",
    "    longitude = df.loc[i,'Longitude AED']\n",
    "    coord_x =  df.loc[i,'coord_x']\n",
    "    coord_y = df.loc[i,'coord_y']\n",
    "    if pd.isna(df.loc[i,'Latitude AED']):\n",
    "        df.loc[i,'Latitude AED'] = coord_x\n",
    "        df.loc[i,'Longitude AED'] = coord_y\n",
    "    else:\n",
    "        if abs(latitude-coord_x)>0.3:\n",
    "            df.loc[i,'Latitude AED'] = coord_x\n",
    "        if abs(longitude-coord_y)>0.2:\n",
    "            df.loc[i,'Longitude AED'] = coord_y\n",
    "df.to_csv('AED_info.csv',index=False)"
   ]
  }
 ],
 "metadata": {
  "kernelspec": {
   "display_name": "Python 3 (ipykernel)",
   "language": "python",
   "name": "python3"
  },
  "language_info": {
   "codemirror_mode": {
    "name": "ipython",
    "version": 3
   },
   "file_extension": ".py",
   "mimetype": "text/x-python",
   "name": "python",
   "nbconvert_exporter": "python",
   "pygments_lexer": "ipython3",
   "version": "3.11.8"
  }
 },
 "nbformat": 4,
 "nbformat_minor": 5
}
