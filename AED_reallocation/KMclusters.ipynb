{
 "cells": [
  {
   "cell_type": "code",
   "execution_count": 100,
   "id": "d2d9419e-045a-4d87-af42-17f2402d5815",
   "metadata": {},
   "outputs": [],
   "source": [
    "import pandas as pd\n",
    "import numpy as np\n",
    "from sklearn.cluster import KMeans\n",
    "import os\n",
    "\n",
    "import folium\n",
    "from folium.plugins import MarkerCluster\n",
    "import matplotlib.cm as cm\n",
    "import matplotlib.colors as colors\n",
    "# KMeans \n",
    "def KMeans_cluster(df, num_clusters, covariate):\n",
    "    # Fit the model\n",
    "    model = KMeans(num_clusters, random_state=123)\n",
    "    df[\"cluster\"] = model.fit_predict(df[covariate])\n",
    "\n",
    "    # calculate the count and the location for each cluster\n",
    "    cluster_centers = []\n",
    "    for label in range(num_clusters):\n",
    "        cluster_points = df[df['cluster'] == label]\n",
    "        centroid = cluster_points[covariate].mean().tolist()\n",
    "        cluster_centers.append((centroid, label))\n",
    "    centers = pd.DataFrame(cluster_centers)\n",
    "    centers = centers.rename(columns = {0:\"location\", 1:\"cluster\"})\n",
    "    number_of_occurences = pd.DataFrame(df['cluster'].value_counts())\n",
    "    number_of_occurences.reset_index(inplace=True)\n",
    "    number_of_occurences.columns = ['cluster', 'Count']\n",
    "    number_of_occurences = number_of_occurences.merge(centers)\n",
    "    number_of_occurences = number_of_occurences.drop_duplicates(\"cluster\")\n",
    "\n",
    "    return number_of_occurences\n"
   ]
  },
  {
   "cell_type": "code",
   "execution_count": 102,
   "id": "e8a35214-3e5d-4ac7-a0fa-bf0bd6e2a009",
   "metadata": {},
   "outputs": [
    {
     "name": "stderr",
     "output_type": "stream",
     "text": [
      "/Users/peie/anaconda3/envs/MDA/lib/python3.11/site-packages/sklearn/cluster/_kmeans.py:870: FutureWarning: The default value of `n_init` will change from 10 to 'auto' in 1.4. Set the value of `n_init` explicitly to suppress the warning\n",
      "  warnings.warn(\n",
      "/Users/peie/anaconda3/envs/MDA/lib/python3.11/site-packages/sklearn/cluster/_kmeans.py:870: FutureWarning: The default value of `n_init` will change from 10 to 'auto' in 1.4. Set the value of `n_init` explicitly to suppress the warning\n",
      "  warnings.warn(\n",
      "/Users/peie/anaconda3/envs/MDA/lib/python3.11/site-packages/sklearn/cluster/_kmeans.py:870: FutureWarning: The default value of `n_init` will change from 10 to 'auto' in 1.4. Set the value of `n_init` explicitly to suppress the warning\n",
      "  warnings.warn(\n"
     ]
    }
   ],
   "source": [
    "# KMeans for intervention occurrences\n",
    "df = pd.read_csv('intervention_info.csv')\n",
    "death = df[df['Abandon reason']=='Overleden']\n",
    "spatial = ['Latitude intervention', 'Longitude intervention']\n",
    "intervention_cluster = KMeans_cluster(df, 50, spatial)\n",
    "\n",
    "# KMeans for aed locations\n",
    "aed = pd.read_csv('AED_info.csv')\n",
    "spatial = ['Latitude AED', 'Longitude AED']\n",
    "aed_cluster = KMeans_cluster(aed, 50, spatial)\n",
    "\n",
    "optimal_aed = pd.read_csv('best_aed_locations_genetics.csv')\n",
    "spatial = ['Latitude', 'Longitude']\n",
    "optimal_aed_cluster = KMeans_cluster(optimal_aed, 50, spatial)"
   ]
  },
  {
   "cell_type": "code",
   "execution_count": 65,
   "id": "20b63868-81fc-4f00-bb82-ac9f2a16c1ae",
   "metadata": {},
   "outputs": [
    {
     "name": "stderr",
     "output_type": "stream",
     "text": [
      "/Users/peie/anaconda3/envs/MDA/lib/python3.11/site-packages/sklearn/cluster/_kmeans.py:870: FutureWarning: The default value of `n_init` will change from 10 to 'auto' in 1.4. Set the value of `n_init` explicitly to suppress the warning\n",
      "  warnings.warn(\n",
      "/var/folders/xn/lctj27s9109d7xx92bv542580000gn/T/ipykernel_30278/2081430704.py:14: SettingWithCopyWarning: \n",
      "A value is trying to be set on a copy of a slice from a DataFrame.\n",
      "Try using .loc[row_indexer,col_indexer] = value instead\n",
      "\n",
      "See the caveats in the documentation: https://pandas.pydata.org/pandas-docs/stable/user_guide/indexing.html#returning-a-view-versus-a-copy\n",
      "  df[\"cluster\"] = model.fit_predict(df[covariate])\n"
     ]
    }
   ],
   "source": [
    "# KMeans for dead cases\n",
    "spatial = ['Latitude intervention', 'Longitude intervention']\n",
    "death_cluster = KMeans_cluster(death, 50, spatial)"
   ]
  },
  {
   "cell_type": "code",
   "execution_count": 101,
   "id": "c2e42ef1-bbaf-434c-8682-ce017257876c",
   "metadata": {},
   "outputs": [],
   "source": [
    "# Visualization clusters\n",
    "center = (50.8503, 4.3517)\n",
    "figure = folium.Map(center, zoom_start=12)\n",
    "\n",
    "\n",
    "#intervention_group = folium.FeatureGroup(name='Intervention Cases', control=True)\n",
    "\n",
    "#death_group = folium.FeatureGroup(name='Death Cases', control=True)\n",
    "\n",
    "aed_group = folium.FeatureGroup(name='AED Current Locations', control=True)\n",
    "\n",
    "optimal_aed_group = folium.FeatureGroup(name='AED Optimal Locations', control = True)\n",
    "\n",
    "def visual_cluster(number_of_occurences,bound_color,fill_color,event, layer):\n",
    "    global figure\n",
    "    n_mean = number_of_occurences['Count'].mean()\n",
    "    for location, number, cluster in zip(number_of_occurences['location'],\n",
    "                                               number_of_occurences['Count'],\n",
    "                                               number_of_occurences['cluster'],):\n",
    "        folium.vector_layers.CircleMarker(\n",
    "            [location[0], location[1]],\n",
    "            radius=number/n_mean*2, \n",
    "            color=bound_color,\n",
    "            fill=True,\n",
    "            fill_color=fill_color,\n",
    "            fill_opacity=0.6,\n",
    "            tooltip = str(number)+','+'- Cluster ' + str(cluster) + '-' + event\n",
    "        ).add_to(layer)\n",
    "    \n",
    "    figure.add_child(layer)\n",
    "\n",
    "#visual_cluster(intervention_cluster,'blue','blue','Intervention',intervention_group)\n",
    "visual_cluster(aed_cluster,'green','green','AED',aed_group)\n",
    "#visual_cluster(death_cluster,'red','red','Death',death_group)\n",
    "visual_cluster(optimal_aed_cluster,'blue','blue','Optimal AED',optimal_aed_group)\n",
    "folium.LayerControl().add_to(figure)\n",
    "figure.save('aed_reallocation.html')"
   ]
  },
  {
   "cell_type": "code",
   "execution_count": 103,
   "id": "89ee8f64-b985-4fa6-b702-fb711c3dc70c",
   "metadata": {},
   "outputs": [],
   "source": [
    "# Visualization clusters\n",
    "center = (50.8503, 4.3517)\n",
    "figure = folium.Map(center, zoom_start=8)\n",
    "\n",
    "intervention_group = folium.FeatureGroup(name='Intervention Cases', control=True)\n",
    "death_group = folium.FeatureGroup(name='Death Cases', control=True)\n",
    "\n",
    "\n",
    "def visual_cluster(df,location_columns,bound_color,fill_color,event,layer):\n",
    "    global figure\n",
    "    # n_mean = number_of_occurences['Count'].mean()\n",
    "    marker_cluster = MarkerCluster().add_to(layer)\n",
    "    for location in zip(df[location_columns[0]],df[location_columns[1]]):\n",
    "        folium.vector_layers.Marker(\n",
    "            [location[0], location[1]],\n",
    "            #radius=number/n_mean*3, \n",
    "            color=bound_color,\n",
    "            fill=True,\n",
    "            fill_color=fill_color,\n",
    "            fill_opacity=0.6,\n",
    "            tooltip = event,\n",
    "            icon=folium.Icon(color=fill_color)\n",
    "        ).add_to(marker_cluster)\n",
    "\n",
    "    figure.add_child(layer)\n",
    "\n",
    "visual_cluster(df,['Latitude intervention', 'Longitude intervention'], 'blue','blue','Intervention',intervention_group)\n",
    "visual_cluster(death,['Latitude intervention', 'Longitude intervention'], 'red','red','Death',death_group)\n",
    "\n",
    "folium.LayerControl().add_to(figure)\n",
    "figure.save('map_intervention.html')"
   ]
  },
  {
   "cell_type": "code",
   "execution_count": 99,
   "id": "68475f1d-b10e-4f1f-9880-74e5f7c0837d",
   "metadata": {},
   "outputs": [],
   "source": [
    "center = (50.8503, 4.3517)\n",
    "figure = folium.Map(center, zoom_start=9)\n",
    "\n",
    "aed_group = folium.FeatureGroup(name='AED Current Locations', control=True)\n",
    "# optimal_aed_group = folium.FeatureGroup(name='AED Optimal Locations', control = True)\n",
    "\n",
    "\n",
    "visual_cluster(aed,['Latitude AED', 'Longitude AED'],'green','green','AED',aed_group)\n",
    "#visual_cluster(optimal_aed,['Latitude', 'Longitude'],'white','white','Optimal AED',optimal_aed_group)\n",
    "\n",
    "figure.save('map_AED.html')"
   ]
  }
 ],
 "metadata": {
  "kernelspec": {
   "display_name": "Python 3 (ipykernel)",
   "language": "python",
   "name": "python3"
  },
  "language_info": {
   "codemirror_mode": {
    "name": "ipython",
    "version": 3
   },
   "file_extension": ".py",
   "mimetype": "text/x-python",
   "name": "python",
   "nbconvert_exporter": "python",
   "pygments_lexer": "ipython3",
   "version": "3.11.8"
  }
 },
 "nbformat": 4,
 "nbformat_minor": 5
}
